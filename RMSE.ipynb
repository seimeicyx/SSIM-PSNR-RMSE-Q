{
 "cells": [
  {
   "cell_type": "code",
   "execution_count": 1,
   "id": "sublime-south",
   "metadata": {},
   "outputs": [],
   "source": [
    "import cv2\n",
    "import numpy as np\n",
    "import math\n",
    "from skimage import io\n",
    "def calculateMSE(A,B,F):\n",
    "    T=A-F\n",
    "    T=T*T\n",
    "    MSE_AF=np.sum(T)/len(T)\n",
    "    T=B-F\n",
    "    T=T*T\n",
    "    MSE_BF=np.sum(T)/len(T)\n",
    "    return ((MSE_AF+MSE_BF)/2)**0.5"
   ]
  },
  {
   "cell_type": "code",
   "execution_count": 2,
   "id": "bibliographic-uganda",
   "metadata": {},
   "outputs": [
    {
     "name": "stdout",
     "output_type": "stream",
     "text": [
      "185.92999096020398\n"
     ]
    }
   ],
   "source": [
    "oimg_A = io.imread(\"data/a.png\")\n",
    "oimg_B = io.imread(\"data/b.png\")\n",
    "oimg_F= io.imread(\"data/f.png\")\n",
    "MSE=calculateMSE(oimg_A, oimg_B,oimg_F)\n",
    "print(MSE)"
   ]
  },
  {
   "cell_type": "code",
   "execution_count": null,
   "id": "finnish-bumper",
   "metadata": {},
   "outputs": [],
   "source": []
  }
 ],
 "metadata": {
  "kernelspec": {
   "display_name": "Python 3",
   "language": "python",
   "name": "python3"
  },
  "language_info": {
   "codemirror_mode": {
    "name": "ipython",
    "version": 3
   },
   "file_extension": ".py",
   "mimetype": "text/x-python",
   "name": "python",
   "nbconvert_exporter": "python",
   "pygments_lexer": "ipython3",
   "version": "3.7.9"
  }
 },
 "nbformat": 4,
 "nbformat_minor": 5
}
