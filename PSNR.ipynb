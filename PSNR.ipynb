{
 "cells": [
  {
   "cell_type": "code",
   "execution_count": 1,
   "id": "early-yorkshire",
   "metadata": {},
   "outputs": [],
   "source": [
    "import cv2\n",
    "import numpy as np\n",
    "import math\n",
    "from skimage import io\n",
    "def caculate_PSNR(img1, img2):\n",
    "    mse = np.mean( (img1/255. - img2/255.) ** 2 )\n",
    "    if mse < 1.0e-10:\n",
    "        return 100\n",
    "    PIXEL_MAX = 1\n",
    "    return 20 * math.log10(PIXEL_MAX / math.sqrt(mse))\n"
   ]
  },
  {
   "cell_type": "code",
   "execution_count": 3,
   "id": "personalized-consortium",
   "metadata": {},
   "outputs": [
    {
     "name": "stdout",
     "output_type": "stream",
     "text": [
      "28.546821822789987\n"
     ]
    }
   ],
   "source": [
    "oimg_A = io.imread(\"data/a.png\")\n",
    "oimg_B = io.imread(\"data/b.png\")\n",
    "oimg_F= io.imread(\"data/f.png\")\n",
    "PSNR_AF=caculate_PSNR(oimg_A, oimg_F)\n",
    "PSNR_BF=caculate_PSNR(oimg_B, oimg_F)\n",
    "PSNR=(PSNR_AF+PSNR_BF)/2\n",
    "print(PSNR)"
   ]
  },
  {
   "cell_type": "code",
   "execution_count": null,
   "id": "higher-diameter",
   "metadata": {},
   "outputs": [],
   "source": []
  }
 ],
 "metadata": {
  "kernelspec": {
   "display_name": "Python 3",
   "language": "python",
   "name": "python3"
  },
  "language_info": {
   "codemirror_mode": {
    "name": "ipython",
    "version": 3
   },
   "file_extension": ".py",
   "mimetype": "text/x-python",
   "name": "python",
   "nbconvert_exporter": "python",
   "pygments_lexer": "ipython3",
   "version": "3.7.9"
  }
 },
 "nbformat": 4,
 "nbformat_minor": 5
}
