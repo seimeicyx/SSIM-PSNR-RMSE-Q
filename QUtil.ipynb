{
 "cells": [
  {
   "cell_type": "code",
   "execution_count": 1,
   "id": "suitable-chart",
   "metadata": {},
   "outputs": [],
   "source": [
    "import tensorflow as tf\n",
    "import numpy as np\n",
    "import cv2\n",
    "import cmath\n",
    "import math\n",
    "import os\n",
    "from skimage import io"
   ]
  },
  {
   "cell_type": "code",
   "execution_count": 2,
   "id": "educated-binary",
   "metadata": {},
   "outputs": [],
   "source": [
    "def caculate_gA(image):\n",
    "    SAx=cv2.Sobel(image,-1,1,0)\n",
    "    SAy=cv2.Sobel(image,-1,0,1)\n",
    "    return (SAx*SAx+SAy*SAy)**0.5"
   ]
  },
  {
   "cell_type": "code",
   "execution_count": 3,
   "id": "lined-interval",
   "metadata": {},
   "outputs": [],
   "source": [
    "def caculate_aA(image):\n",
    "    SAx=cv2.Sobel(image,-1,1,0)\n",
    "    SAy=cv2.Sobel(image,-1,0,1)\n",
    "    t=SAy/SAx\n",
    "    for i in range(t.shape[0]):\n",
    "        for j in range(t.shape[1]):\n",
    "            if np.isnan(t[i,j]):\n",
    "                t[i,j]=10000000\n",
    "\n",
    "    return np.arctan(t)"
   ]
  },
  {
   "cell_type": "code",
   "execution_count": 4,
   "id": "political-advertiser",
   "metadata": {},
   "outputs": [],
   "source": [
    "def caculate_GAF(G_A,G_F):\n",
    "    m=G_A.shape[0]\n",
    "    n=G_A.shape[1]\n",
    "    GAF=np.zeros(shape=(m,n))\n",
    "\n",
    "    for i in range(m):\n",
    "        for j in range(n):\n",
    "#             print(G_A[i,j])\n",
    "            if G_A[i,j]>G_F[i,j]:\n",
    "                GAF[i,j]=G_F[i,j]/G_A[i,j]\n",
    "            else:\n",
    "                GAF[i,j]=G_A[i,j]/G_F[i,j]\n",
    "            if np.isnan(GAF[i,j]):\n",
    "                GAF[i,j]=100000000\n",
    "    return GAF"
   ]
  },
  {
   "cell_type": "code",
   "execution_count": 5,
   "id": "isolated-stanford",
   "metadata": {},
   "outputs": [],
   "source": [
    "def caculate_AAF(a_A,a_F):\n",
    "    return abs(abs(a_A-a_F)-math.pi/2)/(math.pi/2)"
   ]
  },
  {
   "cell_type": "code",
   "execution_count": 6,
   "id": "cutting-detroit",
   "metadata": {},
   "outputs": [],
   "source": [
    "def caculate_QgAF(GAF):\n",
    "    return 0.9994/(1+np.exp(15*(GAF-0.5)))"
   ]
  },
  {
   "cell_type": "code",
   "execution_count": 7,
   "id": "center-price",
   "metadata": {},
   "outputs": [],
   "source": [
    "def caculate_QaAF(AAF):\n",
    "    return 0.9879/(1+np.exp(22*(AAF-0.8)))"
   ]
  },
  {
   "cell_type": "code",
   "execution_count": 8,
   "id": "invisible-illinois",
   "metadata": {},
   "outputs": [],
   "source": [
    "def caculate_QAF(QgAF,QaAF):\n",
    "    return QgAF*QaAF"
   ]
  },
  {
   "cell_type": "code",
   "execution_count": 9,
   "id": "systematic-uncle",
   "metadata": {},
   "outputs": [],
   "source": [
    "def caculate_wx(Gx):\n",
    "    return Gx**1.5\n"
   ]
  },
  {
   "cell_type": "code",
   "execution_count": 10,
   "id": "soviet-seeking",
   "metadata": {},
   "outputs": [],
   "source": [
    "def caculate_Q(QAF,QBF,wA,wB):\n",
    "    m=QAF.shape[0]\n",
    "    n=QAF.shape[1]\n",
    "    sum1=0\n",
    "    for i in range(m):\n",
    "        for j in range(n):\n",
    "            sum1=sum1+QAF[i,j]*wA[i,j]+QBF[i,j]*wB[i,j]\n",
    "    sum2=0\n",
    "    for i in range(m):\n",
    "        for j in range(n):\n",
    "            sum2=sum2+wA[i,j]+wB[i,j]\n",
    "    print(\"sum1\",sum1,\"sum2\",sum2)\n",
    "    return (sum1/sum2*10)"
   ]
  },
  {
   "cell_type": "code",
   "execution_count": 11,
   "id": "extreme-governor",
   "metadata": {},
   "outputs": [],
   "source": [
    "oimg_A = io.imread(\"data/a.png\")\n",
    "oimg_B = io.imread(\"data/b.png\")\n",
    "oimg_F= io.imread(\"data/f.png\")\n",
    "m=oimg_A.shape[0]\n",
    "n=oimg_A.shape[1]\n",
    "img_A=np.zeros(shape=(m,n))\n",
    "img_B=np.zeros(shape=(m,n))\n",
    "img_F=np.zeros(shape=(m,n))\n",
    "img_A=oimg_A[:,:,0]+oimg_A[:,:,1]+oimg_A[:,:,2]\n",
    "img_B=oimg_B[:,:,0]+oimg_B[:,:,1]+oimg_B[:,:,2]\n",
    "img_F=oimg_F[:,:,0]+oimg_F[:,:,1]+oimg_F[:,:,2]"
   ]
  },
  {
   "cell_type": "code",
   "execution_count": 12,
   "id": "shaped-ballet",
   "metadata": {},
   "outputs": [
    {
     "name": "stderr",
     "output_type": "stream",
     "text": [
      "E:\\ANACONDA\\envs\\geospatial\\lib\\site-packages\\ipykernel_launcher.py:4: RuntimeWarning: divide by zero encountered in true_divide\n",
      "  after removing the cwd from sys.path.\n",
      "E:\\ANACONDA\\envs\\geospatial\\lib\\site-packages\\ipykernel_launcher.py:4: RuntimeWarning: invalid value encountered in true_divide\n",
      "  after removing the cwd from sys.path.\n"
     ]
    }
   ],
   "source": [
    "#计F\n",
    "F_gA=caculate_gA(img_F)\n",
    "F_aA=caculate_aA(img_F)"
   ]
  },
  {
   "cell_type": "code",
   "execution_count": 13,
   "id": "artistic-headset",
   "metadata": {
    "scrolled": false
   },
   "outputs": [
    {
     "name": "stderr",
     "output_type": "stream",
     "text": [
      "E:\\ANACONDA\\envs\\geospatial\\lib\\site-packages\\ipykernel_launcher.py:4: RuntimeWarning: divide by zero encountered in true_divide\n",
      "  after removing the cwd from sys.path.\n",
      "E:\\ANACONDA\\envs\\geospatial\\lib\\site-packages\\ipykernel_launcher.py:4: RuntimeWarning: invalid value encountered in true_divide\n",
      "  after removing the cwd from sys.path.\n",
      "E:\\ANACONDA\\envs\\geospatial\\lib\\site-packages\\ipykernel_launcher.py:12: RuntimeWarning: invalid value encountered in double_scalars\n",
      "  if sys.path[0] == '':\n",
      "E:\\ANACONDA\\envs\\geospatial\\lib\\site-packages\\ipykernel_launcher.py:2: RuntimeWarning: overflow encountered in exp\n",
      "  \n"
     ]
    }
   ],
   "source": [
    "#计算A\n",
    "A_gA=caculate_gA(img_A)\n",
    "A_aA=caculate_aA(img_A)\n",
    "\n",
    "A_GAF=caculate_GAF(A_gA,F_gA)\n",
    "\n",
    "A_AAF=caculate_AAF(A_aA,F_aA)\n",
    "A_QgAF=caculate_QgAF(A_GAF)\n",
    "A_aGAF=caculate_QaAF(A_AAF)\n",
    "\n",
    "A_QAF=caculate_QAF(A_QgAF,A_aGAF)\n",
    "\n",
    "WA=caculate_wx(A_gA)\n"
   ]
  },
  {
   "cell_type": "code",
   "execution_count": 14,
   "id": "cultural-jefferson",
   "metadata": {},
   "outputs": [
    {
     "name": "stderr",
     "output_type": "stream",
     "text": [
      "E:\\ANACONDA\\envs\\geospatial\\lib\\site-packages\\ipykernel_launcher.py:4: RuntimeWarning: divide by zero encountered in true_divide\n",
      "  after removing the cwd from sys.path.\n",
      "E:\\ANACONDA\\envs\\geospatial\\lib\\site-packages\\ipykernel_launcher.py:4: RuntimeWarning: invalid value encountered in true_divide\n",
      "  after removing the cwd from sys.path.\n",
      "E:\\ANACONDA\\envs\\geospatial\\lib\\site-packages\\ipykernel_launcher.py:12: RuntimeWarning: invalid value encountered in double_scalars\n",
      "  if sys.path[0] == '':\n",
      "E:\\ANACONDA\\envs\\geospatial\\lib\\site-packages\\ipykernel_launcher.py:2: RuntimeWarning: overflow encountered in exp\n",
      "  \n"
     ]
    }
   ],
   "source": [
    "#计算B\n",
    "B_gA=caculate_gA(img_B)\n",
    "B_aA=caculate_aA(img_B)\n",
    "B_GAF=caculate_GAF(B_gA,B_gA)\n",
    "B_AAF=caculate_AAF(B_aA,F_aA)\n",
    "B_QgAF=caculate_QgAF(B_GAF)\n",
    "B_aGAF=caculate_QaAF(B_AAF)\n",
    "B_QAF=caculate_QAF(B_QgAF,B_aGAF)\n",
    "WB=caculate_wx(B_gA)"
   ]
  },
  {
   "cell_type": "code",
   "execution_count": 15,
   "id": "tested-guide",
   "metadata": {},
   "outputs": [
    {
     "name": "stdout",
     "output_type": "stream",
     "text": [
      "sum1 886026.8393959682 sum2 12021739.901706133\n",
      "0.07370204701153306\n"
     ]
    }
   ],
   "source": [
    "t=caculate_Q(A_QAF,B_QAF,WA,WB)\n",
    "print(t)"
   ]
  },
  {
   "cell_type": "code",
   "execution_count": null,
   "id": "intended-psychology",
   "metadata": {},
   "outputs": [],
   "source": []
  },
  {
   "cell_type": "code",
   "execution_count": null,
   "id": "religious-backup",
   "metadata": {},
   "outputs": [],
   "source": []
  }
 ],
 "metadata": {
  "kernelspec": {
   "display_name": "Python 3",
   "language": "python",
   "name": "python3"
  },
  "language_info": {
   "codemirror_mode": {
    "name": "ipython",
    "version": 3
   },
   "file_extension": ".py",
   "mimetype": "text/x-python",
   "name": "python",
   "nbconvert_exporter": "python",
   "pygments_lexer": "ipython3",
   "version": "3.7.9"
  }
 },
 "nbformat": 4,
 "nbformat_minor": 5
}
